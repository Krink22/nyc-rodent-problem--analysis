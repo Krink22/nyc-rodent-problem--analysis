{
 "cells": [
  {
   "cell_type": "code",
   "execution_count": 1,
   "id": "a4d054a8",
   "metadata": {},
   "outputs": [],
   "source": [
    "import pandas as pd\n",
    "import os\n",
    "import matplotlib.pyplot as plt\n",
    "import numpy as np\n",
    "from scipy import stats\n",
    "from sklearn.linear_model import LinearRegression"
   ]
  },
  {
   "cell_type": "code",
   "execution_count": 2,
   "id": "82830f41",
   "metadata": {},
   "outputs": [],
   "source": [
    "#USER SETTINGS\n",
    "\n",
    "minInspectedRestos = 10 #number of restos per CB appears biomodal distributed. Eliminating CBs <10 largely eliminates the lower peak of distribution\n",
    "removeOutliers = False"
   ]
  },
  {
   "cell_type": "markdown",
   "id": "df2658ce",
   "metadata": {},
   "source": [
    "# Import Data"
   ]
  },
  {
   "cell_type": "code",
   "execution_count": 3,
   "id": "9669ecad",
   "metadata": {},
   "outputs": [],
   "source": [
    "#Move to correct directory\n",
    "os.chdir(\"/Users/karina/Library/CloudStorage/Dropbox/Programming/OTI_Interview\")\n",
    "\n",
    "# Read the CSV files into DataFrames\n",
    "violationsDfRaw = pd.read_csv(\"rodentViolationSummary.csv\")\n",
    "complaintsDfRaw = pd.read_csv(\"rodentComplaintSummary.csv\")\n"
   ]
  },
  {
   "cell_type": "code",
   "execution_count": 4,
   "id": "f882a626",
   "metadata": {},
   "outputs": [
    {
     "name": "stdout",
     "output_type": "stream",
     "text": [
      "<class 'pandas.core.frame.DataFrame'>\n",
      "RangeIndex: 66 entries, 0 to 65\n",
      "Data columns (total 4 columns):\n",
      " #   Column              Non-Null Count  Dtype\n",
      "---  ------              --------------  -----\n",
      " 0   CB_Id               66 non-null     int64\n",
      " 1   inspected_restos    66 non-null     int64\n",
      " 2   rodent_viol_restos  66 non-null     int64\n",
      " 3   complaints          66 non-null     int64\n",
      "dtypes: int64(4)\n",
      "memory usage: 2.2 KB\n"
     ]
    }
   ],
   "source": [
    "#Join Data\n",
    "violationsDf = violationsDfRaw.rename(columns={'Community Board': 'CB_Id'}, inplace=False)\n",
    "\n",
    "CB_summary = violationsDf.merge(complaintsDfRaw, on='CB_Id', how='inner')\n",
    "\n",
    "CB_summary.info()"
   ]
  },
  {
   "cell_type": "code",
   "execution_count": 5,
   "id": "80745edf",
   "metadata": {},
   "outputs": [
    {
     "data": {
      "text/html": [
       "<div>\n",
       "<style scoped>\n",
       "    .dataframe tbody tr th:only-of-type {\n",
       "        vertical-align: middle;\n",
       "    }\n",
       "\n",
       "    .dataframe tbody tr th {\n",
       "        vertical-align: top;\n",
       "    }\n",
       "\n",
       "    .dataframe thead th {\n",
       "        text-align: right;\n",
       "    }\n",
       "</style>\n",
       "<table border=\"1\" class=\"dataframe\">\n",
       "  <thead>\n",
       "    <tr style=\"text-align: right;\">\n",
       "      <th></th>\n",
       "      <th>CB_Id</th>\n",
       "      <th>inspected_restos</th>\n",
       "      <th>rodent_viol_restos</th>\n",
       "      <th>complaints</th>\n",
       "      <th>complaintsPerInspectedResto</th>\n",
       "      <th>violationsPerInspectedResto</th>\n",
       "    </tr>\n",
       "  </thead>\n",
       "  <tbody>\n",
       "    <tr>\n",
       "      <th>0</th>\n",
       "      <td>101</td>\n",
       "      <td>589</td>\n",
       "      <td>184</td>\n",
       "      <td>207</td>\n",
       "      <td>0.351443</td>\n",
       "      <td>0.312394</td>\n",
       "    </tr>\n",
       "    <tr>\n",
       "      <th>1</th>\n",
       "      <td>102</td>\n",
       "      <td>883</td>\n",
       "      <td>387</td>\n",
       "      <td>648</td>\n",
       "      <td>0.733862</td>\n",
       "      <td>0.438279</td>\n",
       "    </tr>\n",
       "    <tr>\n",
       "      <th>2</th>\n",
       "      <td>103</td>\n",
       "      <td>944</td>\n",
       "      <td>408</td>\n",
       "      <td>842</td>\n",
       "      <td>0.891949</td>\n",
       "      <td>0.432203</td>\n",
       "    </tr>\n",
       "    <tr>\n",
       "      <th>3</th>\n",
       "      <td>104</td>\n",
       "      <td>766</td>\n",
       "      <td>348</td>\n",
       "      <td>664</td>\n",
       "      <td>0.866841</td>\n",
       "      <td>0.454308</td>\n",
       "    </tr>\n",
       "    <tr>\n",
       "      <th>4</th>\n",
       "      <td>105</td>\n",
       "      <td>1676</td>\n",
       "      <td>555</td>\n",
       "      <td>238</td>\n",
       "      <td>0.142005</td>\n",
       "      <td>0.331146</td>\n",
       "    </tr>\n",
       "  </tbody>\n",
       "</table>\n",
       "</div>"
      ],
      "text/plain": [
       "   CB_Id  inspected_restos  rodent_viol_restos  complaints  \\\n",
       "0    101               589                 184         207   \n",
       "1    102               883                 387         648   \n",
       "2    103               944                 408         842   \n",
       "3    104               766                 348         664   \n",
       "4    105              1676                 555         238   \n",
       "\n",
       "   complaintsPerInspectedResto  violationsPerInspectedResto  \n",
       "0                     0.351443                     0.312394  \n",
       "1                     0.733862                     0.438279  \n",
       "2                     0.891949                     0.432203  \n",
       "3                     0.866841                     0.454308  \n",
       "4                     0.142005                     0.331146  "
      ]
     },
     "execution_count": 5,
     "metadata": {},
     "output_type": "execute_result"
    }
   ],
   "source": [
    "#Add \"normalized\" columns\n",
    "CB_summary[\"complaintsPerInspectedResto\"] = CB_summary[\"complaints\"]/CB_summary[\"inspected_restos\"]\n",
    "CB_summary[\"violationsPerInspectedResto\"] = CB_summary[\"rodent_viol_restos\"]/CB_summary[\"inspected_restos\"]\n",
    "CB_summary.head()"
   ]
  },
  {
   "cell_type": "markdown",
   "id": "1d9735dc",
   "metadata": {},
   "source": [
    "# Explore and Clean Data"
   ]
  },
  {
   "cell_type": "code",
   "execution_count": 6,
   "id": "29ac0ee6",
   "metadata": {},
   "outputs": [
    {
     "data": {
      "image/png": "[encoded data removed]",
      "text/plain": [
       "<Figure size 640x480 with 1 Axes>"
      ]
     },
     "metadata": {},
     "output_type": "display_data"
    },
    {
     "name": "stdout",
     "output_type": "stream",
     "text": [
      "WARNING: Distribution of restos inspected appears to be bimodal and with one outlier.\n",
      "      Consider looking at only CBs with >10 restos and reliminating outlier.\n",
      "      Would be best to research these CBs first to understand why they don't fit with main population\n",
      "      and if it makes sense to exclude them from analysis.\n",
      "      \n"
     ]
    }
   ],
   "source": [
    "#Look at distribution of number of restos inspected per community board\n",
    "#Goal is to get a sense of how similar/different cbs might be and whether it looks like a normal population\n",
    "\n",
    "plt.hist(CB_summary[\"inspected_restos\"], bins=50)  # Adjust the number of bins as needed\n",
    "plt.xlabel('Values')\n",
    "plt.ylabel('Frequency')\n",
    "plt.title('Distribution of Column')\n",
    "plt.show()\n",
    "\n",
    "print('''WARNING: Distribution of restos inspected appears to be bimodal and with one outlier.\n",
    "      Consider looking at only CBs with >10 restos and reliminating outlier.\n",
    "      Would be best to research these CBs first to understand why they don't fit with main population\n",
    "      and if it makes sense to exclude them from analysis.\n",
    "      ''')"
   ]
  },
  {
   "cell_type": "code",
   "execution_count": 7,
   "id": "6db31397",
   "metadata": {},
   "outputs": [
    {
     "name": "stdout",
     "output_type": "stream",
     "text": [
      "6 rows removed by filtering for\n",
      "CBs with at least 10 restos inspected\n"
     ]
    }
   ],
   "source": [
    "#(OPTIONAL) Filter out CBs without some minimum number of restaurants inspected\n",
    "CB_summary_filt = CB_summary[CB_summary[\"inspected_restos\"]>=minInspectedRestos]\n",
    "print(f'''{CB_summary.shape[0] - CB_summary_filt.shape[0]} rows removed by filtering for\n",
    "CBs with at least {minInspectedRestos} restos inspected''')"
   ]
  },
  {
   "cell_type": "code",
   "execution_count": 8,
   "id": "b79d5445",
   "metadata": {},
   "outputs": [
    {
     "name": "stdout",
     "output_type": "stream",
     "text": [
      "Outlier removal set to off\n"
     ]
    }
   ],
   "source": [
    "#(OPTIONAL) Filter out outlier CBs in terms of number of restos inspected\n",
    "\n",
    "if removeOutliers:\n",
    "    data = CB_summary_filt[\"inspected_restos\"]\n",
    "    # Calculate quartiles\n",
    "    Q1 = data.quantile(0.25)\n",
    "    Q3 = data.quantile(0.75)\n",
    "    # Calculate IQR\n",
    "    IQR = Q3 - Q1\n",
    "    # Define lower and upper bounds\n",
    "    lower_bound = Q1 - (1.5 * IQR)\n",
    "    upper_bound = Q3 + (1.5 * IQR)\n",
    "    # Identify outliers\n",
    "    outliers = data[(data < lower_bound) | (data > upper_bound)]\n",
    "\n",
    "    #Remove outlier rows\n",
    "    CB_summary_filt=CB_summary_filt[~CB_summary_filt[\"inspected_restos\"].isin(outliers)]\n",
    "\n",
    "    print(f\"Removed outlier CBs with following number of restos inspected:\\n{outliers}\")\n",
    "else:\n",
    "    print(\"Outlier removal set to off\")"
   ]
  },
  {
   "cell_type": "markdown",
   "id": "9338cb3e",
   "metadata": {},
   "source": [
    "# Fit and plot complaints vs violations (unnormalized)"
   ]
  },
  {
   "cell_type": "code",
   "execution_count": 9,
   "id": "fb3242cd",
   "metadata": {},
   "outputs": [],
   "source": [
    "# Fit linear regression model\n",
    "X = CB_summary_filt[\"rodent_viol_restos\"].values\n",
    "y = CB_summary_filt[\"complaints\"].values\n",
    "\n",
    "lm = LinearRegression()\n",
    "lm.fit(X.reshape(-1, 1), y.reshape(-1, 1)) #reshape necessary bc lm.fit expects 2D arrays. The -1 just lets program know to infer number of rows from the input, while the 1 says it's one column  \n",
    "coefficients = lm.coef_[0][0], lm.intercept_[0]"
   ]
  },
  {
   "cell_type": "code",
   "execution_count": 10,
   "id": "dd79088c",
   "metadata": {
    "scrolled": true
   },
   "outputs": [
    {
     "name": "stdout",
     "output_type": "stream",
     "text": [
      "Slope: 0.5029512466126024\n",
      "Intercept: 610.8245856774879\n",
      "Correlation coefficient (r): 0.11649471849982071\n",
      "P-value: 0.37539913422101057\n",
      "Standard error: 0.5630391156820135\n",
      "\n",
      "WARNING!!! The p-value is significant at .05 level when don't filter out any CBs.\n",
      "Filtering out just outliers lowers p to .0004\n",
      "Filtering out CBs with <10 restos raises p to .375\n",
      "Filtering out both raises p to about .07.\n"
     ]
    }
   ],
   "source": [
    "#Get p-value and correlation coefficient\n",
    "slope, intercept, r_value, p_value, std_err = stats.linregress(X, y)\n",
    "\n",
    "# Print the results\n",
    "print(\"Slope:\", slope)\n",
    "print(\"Intercept:\", intercept)\n",
    "print(\"Correlation coefficient (r):\", r_value)\n",
    "print(\"P-value:\", p_value)\n",
    "print(\"Standard error:\", std_err)\n",
    "\n",
    "print('''\n",
    "WARNING!!! The p-value is significant at .05 level when don't filter out any CBs.\n",
    "Filtering out just outliers lowers p to .0004\n",
    "Filtering out CBs with <10 restos raises p to .375\n",
    "Filtering out both raises p to about .07.''')"
   ]
  },
  {
   "cell_type": "code",
   "execution_count": 11,
   "id": "a293c7b6",
   "metadata": {},
   "outputs": [
    {
     "data": {
      "image/png": "[encoded data removed]",
      "text/plain": [
       "<Figure size 640x480 with 1 Axes>"
      ]
     },
     "metadata": {},
     "output_type": "display_data"
    },
    {
     "name": "stdout",
     "output_type": "stream",
     "text": [
      "slope: 0.5029512466126024\n",
      "intercept: 610.8245856774879\n"
     ]
    }
   ],
   "source": [
    "# Plot the data points and regression line\n",
    "plt.figure(1)\n",
    "plt.plot(CB_summary_filt[\"rodent_viol_restos\"], CB_summary_filt[\"complaints\"], 'ob')\n",
    "xs = np.array([CB_summary_filt[\"rodent_viol_restos\"].min(),CB_summary_filt[\"rodent_viol_restos\"].max()])\n",
    "ys = coefficients[0] * xs + coefficients[1]\n",
    "plt.plot(xs, ys, 'r')\n",
    "plt.xlabel('nViolatingRestos')\n",
    "plt.ylabel('nComplaints')\n",
    "plt.show()\n",
    "print(f\"slope: {coefficients[0]}\")\n",
    "print(f\"intercept: {coefficients[1]}\")"
   ]
  },
  {
   "cell_type": "markdown",
   "id": "08f956cd",
   "metadata": {},
   "source": [
    "# Fit and plot complaints vs violations (\"normalized\")"
   ]
  },
  {
   "cell_type": "code",
   "execution_count": 12,
   "id": "e8182a92",
   "metadata": {},
   "outputs": [],
   "source": [
    "# Fit linear regression model\n",
    "X = CB_summary_filt[\"violationsPerInspectedResto\"].values\n",
    "y = CB_summary_filt[\"complaintsPerInspectedResto\"].values\n",
    "\n",
    "lm = LinearRegression()\n",
    "lm.fit(X.reshape(-1, 1), y.reshape(-1, 1)) #reshape necessary bc lm.fit expects 2D arrays. The -1 just lets program know to infer number of rows from the input, while the 1 says it's one column  \n",
    "coefficients = lm.coef_[0][0], lm.intercept_[0]"
   ]
  },
  {
   "cell_type": "code",
   "execution_count": 13,
   "id": "e46422d1",
   "metadata": {},
   "outputs": [
    {
     "name": "stdout",
     "output_type": "stream",
     "text": [
      "Slope: 12.00150335452418\n",
      "Intercept: -2.399266094478969\n",
      "Correlation coefficient (r): 0.32943971193717975\n",
      "P-value: 0.010159952361575002\n",
      "Standard error: 4.51646806044445\n",
      "\n",
      "WARNING!!! p-value is NOT significant at .05 level when include all CBs (p = .425).\n",
      "Filtering out just outliers raises p a bit to 0.547\n",
      "Filtering out CBs with <10 restos lowers p to .0102\n",
      "Filtering out both raises p to about .024.\n"
     ]
    }
   ],
   "source": [
    "#Get p-value and correlation coefficient\n",
    "slope, intercept, r_value, p_value, std_err = stats.linregress(X, y)\n",
    "\n",
    "# Print the results\n",
    "print(\"Slope:\", slope)\n",
    "print(\"Intercept:\", intercept)\n",
    "print(\"Correlation coefficient (r):\", r_value)\n",
    "print(\"P-value:\", p_value)\n",
    "print(\"Standard error:\", std_err)\n",
    "\n",
    "print('''\n",
    "WARNING!!! p-value is NOT significant at .05 level when include all CBs (p = .425).\n",
    "Filtering out just outliers raises p a bit to 0.547\n",
    "Filtering out CBs with <10 restos lowers p to .0102\n",
    "Filtering out both raises p to about .024.''')"
   ]
  },
  {
   "cell_type": "code",
   "execution_count": 14,
   "id": "f678a8c7",
   "metadata": {},
   "outputs": [
    {
     "data": {
      "image/png": "[encoded data removed]",
      "text/plain": [
       "<Figure size 640x480 with 1 Axes>"
      ]
     },
     "metadata": {},
     "output_type": "display_data"
    }
   ],
   "source": [
    "# Plot the data points and regression line\n",
    "plt.figure(1)\n",
    "plt.plot(CB_summary_filt[\"violationsPerInspectedResto\"], CB_summary_filt[\"complaintsPerInspectedResto\"], 'ob')\n",
    "xs = np.array([CB_summary_filt[\"violationsPerInspectedResto\"].min(),CB_summary_filt[\"violationsPerInspectedResto\"].max()])\n",
    "ys = coefficients[0] * xs + coefficients[1]\n",
    "plt.plot(xs, ys, 'r')\n",
    "plt.xlabel('nViolatingRestos/Inspected Resto')\n",
    "plt.ylabel('nComplaints/Inspected Resto')\n",
    "plt.show()"
   ]
  }
 ],
 "metadata": {
  "kernelspec": {
   "display_name": "Python 3 (ipykernel)",
   "language": "python",
   "name": "python3"
  },
  "language_info": {
   "codemirror_mode": {
    "name": "ipython",
    "version": 3
   },
   "file_extension": ".py",
   "mimetype": "text/x-python",
   "name": "python",
   "nbconvert_exporter": "python",
   "pygments_lexer": "ipython3",
   "version": "3.11.4"
  }
 },
 "nbformat": 4,
 "nbformat_minor": 5
}
