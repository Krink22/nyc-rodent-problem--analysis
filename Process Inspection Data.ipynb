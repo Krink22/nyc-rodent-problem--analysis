{
 "cells": [
  {
   "cell_type": "code",
   "execution_count": 1,
   "id": "81149184",
   "metadata": {},
   "outputs": [],
   "source": [
    "import pandas as pd\n",
    "import os\n"
   ]
  },
  {
   "cell_type": "markdown",
   "id": "32b9ee38",
   "metadata": {},
   "source": [
    "# IMPORT DATA"
   ]
  },
  {
   "cell_type": "code",
   "execution_count": 2,
   "id": "6d8e34f8",
   "metadata": {},
   "outputs": [
    {
     "name": "stdout",
     "output_type": "stream",
     "text": [
      "Index(['CAMIS', 'DBA', 'BORO', 'BUILDING', 'STREET', 'ZIPCODE', 'PHONE',\n",
      "       'CUISINE DESCRIPTION', 'INSPECTION DATE', 'ACTION', 'VIOLATION CODE',\n",
      "       'VIOLATION DESCRIPTION', 'CRITICAL FLAG', 'SCORE', 'GRADE',\n",
      "       'GRADE DATE', 'RECORD DATE', 'INSPECTION TYPE', 'Latitude', 'Longitude',\n",
      "       'Community Board', 'Council District', 'Census Tract', 'BIN', 'BBL',\n",
      "       'NTA', 'Location Point1'],\n",
      "      dtype='object')\n"
     ]
    }
   ],
   "source": [
    "#Move to correct directory\n",
    "os.chdir(\"/Users/karina/Library/CloudStorage/Dropbox/Programming/OTI_Interview\")\n",
    "\n",
    "# Read the CSV file into a DataFrame\n",
    "inspectionsDfRaw = pd.read_csv('DOHMH_New_York_City_Restaurant_Inspection_Results.csv')\n",
    "\n",
    "#Summarize data\n",
    "print(inspectionsDfRaw.columns)\n",
    "inspectionsDfRaw.head()\n",
    "\n",
    "#Keep just columns of interest\n",
    "columnsOfInterest = [\"CAMIS\",\"BORO\",\"INSPECTION DATE\",\"ACTION\",\"VIOLATION CODE\",\"VIOLATION DESCRIPTION\",\"INSPECTION TYPE\",\"Community Board\",]\n",
    "inspDf = inspectionsDfRaw[columnsOfInterest]\n"
   ]
  },
  {
   "cell_type": "markdown",
   "id": "630a2371",
   "metadata": {},
   "source": [
    "# CLEAN AND FILTER ROWS"
   ]
  },
  {
   "cell_type": "code",
   "execution_count": 3,
   "id": "3593b42c",
   "metadata": {},
   "outputs": [
    {
     "name": "stdout",
     "output_type": "stream",
     "text": [
      "<class 'pandas.core.frame.DataFrame'>\n",
      "Index: 192222 entries, 7 to 198363\n",
      "Data columns (total 8 columns):\n",
      " #   Column                 Non-Null Count   Dtype  \n",
      "---  ------                 --------------   -----  \n",
      " 0   CAMIS                  192222 non-null  int64  \n",
      " 1   BORO                   192222 non-null  object \n",
      " 2   INSPECTION DATE        192222 non-null  object \n",
      " 3   ACTION                 192222 non-null  object \n",
      " 4   VIOLATION CODE         191224 non-null  object \n",
      " 5   VIOLATION DESCRIPTION  191224 non-null  object \n",
      " 6   INSPECTION TYPE        192222 non-null  object \n",
      " 7   Community Board        189105 non-null  float64\n",
      "dtypes: float64(1), int64(1), object(6)\n",
      "memory usage: 13.2+ MB\n",
      "None\n"
     ]
    }
   ],
   "source": [
    "#Eliminate known irrelevant rows \n",
    "\n",
    "#(1) Inspections with date 1900 -- these are inspections not yet completed\n",
    "inspDf = inspDf[inspDf[\"INSPECTION DATE\"] != \"01/01/1900\"]\n",
    "\n",
    "#(2) Actions that don't specifically detail whether violations were found\n",
    "actions_to_exclude = ['Establishment re-opened by DOHMH.', 'Establishment re-closed by DOHMH.']\n",
    "inspDf = inspDf[~inspDf[\"ACTION\"].isin(actions_to_exclude)]\n",
    "\n",
    "\n",
    "#Summarize current dataframe\n",
    "print(inspDf.info())"
   ]
  },
  {
   "cell_type": "code",
   "execution_count": 4,
   "id": "136cc361",
   "metadata": {},
   "outputs": [
    {
     "name": "stdout",
     "output_type": "stream",
     "text": [
      "rows dropped = 3117\n"
     ]
    }
   ],
   "source": [
    "#Eliminate rows with null community board values\n",
    "\n",
    "#(Didn't spend time to figure out why these might occur, but < 2% of data)\n",
    "rows_before = inspDf.shape[0]\n",
    "inspDf = inspDf.dropna(subset=[\"Community Board\"])\n",
    "rows_after = inspDf.shape[0]\n",
    "#Make community boards column integers\n",
    "inspDf[\"Community Board\"] = inspDf[\"Community Board\"].astype(int)\n",
    "\n",
    "#Summarize results\n",
    "print(f\"rows dropped = {rows_before - rows_after}\")"
   ]
  },
  {
   "cell_type": "code",
   "execution_count": 5,
   "id": "10bd5d09",
   "metadata": {},
   "outputs": [],
   "source": [
    "#Keep only rows from 2022\n",
    "\n",
    "inspDf[\"INSPECTION DATE\"] = pd.to_datetime(inspDf[\"INSPECTION DATE\"])\n",
    "inspDf = inspDf[inspDf[\"INSPECTION DATE\"].dt.year == 2022]\n"
   ]
  },
  {
   "cell_type": "code",
   "execution_count": 6,
   "id": "32374653",
   "metadata": {},
   "outputs": [
    {
     "name": "stdout",
     "output_type": "stream",
     "text": [
      "<class 'pandas.core.frame.DataFrame'>\n",
      "Index: 88195 entries, 8 to 198363\n",
      "Data columns (total 8 columns):\n",
      " #   Column                 Non-Null Count  Dtype         \n",
      "---  ------                 --------------  -----         \n",
      " 0   CAMIS                  88195 non-null  int64         \n",
      " 1   BORO                   88195 non-null  object        \n",
      " 2   INSPECTION DATE        88195 non-null  datetime64[ns]\n",
      " 3   ACTION                 88195 non-null  object        \n",
      " 4   VIOLATION CODE         87903 non-null  object        \n",
      " 5   VIOLATION DESCRIPTION  87903 non-null  object        \n",
      " 6   INSPECTION TYPE        88195 non-null  object        \n",
      " 7   Community Board        88195 non-null  int64         \n",
      "dtypes: datetime64[ns](1), int64(2), object(5)\n",
      "memory usage: 6.1+ MB\n",
      "None\n",
      "\n",
      "** NOTE: Null VIOLATION CODE and DESCRIPTION rows are inspections with no violations found\n"
     ]
    }
   ],
   "source": [
    "#Summarize data frame\n",
    "print(inspDf.info())\n",
    "print(\"\\n** NOTE: Null VIOLATION CODE and DESCRIPTION rows are inspections with no violations found\")"
   ]
  },
  {
   "cell_type": "markdown",
   "id": "fb9f1cd8",
   "metadata": {},
   "source": [
    "# DETERMINE WHAT TO COUNT"
   ]
  },
  {
   "cell_type": "code",
   "execution_count": 7,
   "id": "2e29bac9",
   "metadata": {},
   "outputs": [
    {
     "name": "stdout",
     "output_type": "stream",
     "text": [
      "       VIOLATION CODE\n",
      "count    19438.000000\n",
      "mean         4.085966\n",
      "std          2.760411\n",
      "min          0.000000\n",
      "25%          2.000000\n",
      "50%          3.000000\n",
      "75%          6.000000\n",
      "max         21.000000\n",
      "\n",
      "\n",
      "      Since restaurants have different numbers of inspections (mean = 4, stdev = 2.8),\n",
      "      I am going to look at number of restaurants with violations rather than absolute\n",
      "      number of violations. I looked briefly at some example restaurants with multiple\n",
      "      inspections using this line of code:\n",
      "      \n",
      "      inspDf[inspDf[\"CAMIS\"].isin([30112340,40356483])].sort_values(\"CAMIS\")\n",
      "      \n",
      "      and didn't see an obvious way to make sense of what determined how often a resto\n",
      "      was inspected or how many separate inspections were recorded per inspection date\n",
      "      for a given restaurant.\n",
      "      \n"
     ]
    }
   ],
   "source": [
    "#This was to check if all restos have same number of violations, which they don't,\n",
    "#so decided to count restos rather than inspections\n",
    "\n",
    "grouped = inspDf.groupby(\"CAMIS\").agg({'VIOLATION CODE': 'nunique'})\n",
    "\n",
    "#Explain Conclusion:\n",
    "print(grouped.describe())\n",
    "print('''\\n\n",
    "      Since restaurants have different numbers of inspections (mean = 4, stdev = 2.8),\n",
    "      I am going to look at number of restaurants with violations rather than absolute\n",
    "      number of violations. I looked briefly at some example restaurants with multiple\n",
    "      inspections using this line of code:\n",
    "      \n",
    "      inspDf[inspDf[\"CAMIS\"].isin([30112340,40356483])].sort_values(\"CAMIS\")\n",
    "      \n",
    "      and didn't see an obvious way to make sense of what determined how often a resto\n",
    "      was inspected or how many separate inspections were recorded per inspection date\n",
    "      for a given restaurant.\n",
    "      ''')"
   ]
  },
  {
   "cell_type": "markdown",
   "id": "457c1738",
   "metadata": {},
   "source": [
    "# EXTRACT SUMMARY DATA"
   ]
  },
  {
   "cell_type": "code",
   "execution_count": 8,
   "id": "b91554ca",
   "metadata": {},
   "outputs": [],
   "source": [
    "#Separate rodent-related violations from all other inspection results\n",
    "\n",
    "rodentViolationCodes = ['04K', '04L', '08A'];\n",
    "\n",
    "#Replace all inspections without rodent violations with 0\n",
    "inspDf.loc[~inspDf[\"VIOLATION CODE\"].isin(rodentViolationCodes), rodentViolationCodes] = 0\n",
    "\n",
    "#Make a dataframe of just inspections with rodent-related violations\n",
    "rodentViolationsDf = inspDf.copy()\n",
    "rodentViolationsDf = rodentViolationsDf[rodentViolationsDf[\"VIOLATION CODE\"].isin(rodentViolationCodes)]"
   ]
  },
  {
   "cell_type": "code",
   "execution_count": 9,
   "id": "a3c9acd9",
   "metadata": {},
   "outputs": [
    {
     "data": {
      "text/html": [
       "<div>\n",
       "<style scoped>\n",
       "    .dataframe tbody tr th:only-of-type {\n",
       "        vertical-align: middle;\n",
       "    }\n",
       "\n",
       "    .dataframe tbody tr th {\n",
       "        vertical-align: top;\n",
       "    }\n",
       "\n",
       "    .dataframe thead th {\n",
       "        text-align: right;\n",
       "    }\n",
       "</style>\n",
       "<table border=\"1\" class=\"dataframe\">\n",
       "  <thead>\n",
       "    <tr style=\"text-align: right;\">\n",
       "      <th></th>\n",
       "      <th>inspected_restos</th>\n",
       "      <th>rodent_viol_restos</th>\n",
       "    </tr>\n",
       "    <tr>\n",
       "      <th>Community Board</th>\n",
       "      <th></th>\n",
       "      <th></th>\n",
       "    </tr>\n",
       "  </thead>\n",
       "  <tbody>\n",
       "    <tr>\n",
       "      <th>101</th>\n",
       "      <td>589</td>\n",
       "      <td>184</td>\n",
       "    </tr>\n",
       "    <tr>\n",
       "      <th>102</th>\n",
       "      <td>883</td>\n",
       "      <td>387</td>\n",
       "    </tr>\n",
       "    <tr>\n",
       "      <th>103</th>\n",
       "      <td>944</td>\n",
       "      <td>408</td>\n",
       "    </tr>\n",
       "    <tr>\n",
       "      <th>104</th>\n",
       "      <td>766</td>\n",
       "      <td>348</td>\n",
       "    </tr>\n",
       "    <tr>\n",
       "      <th>105</th>\n",
       "      <td>1676</td>\n",
       "      <td>555</td>\n",
       "    </tr>\n",
       "  </tbody>\n",
       "</table>\n",
       "</div>"
      ],
      "text/plain": [
       "                 inspected_restos  rodent_viol_restos\n",
       "Community Board                                      \n",
       "101                           589                 184\n",
       "102                           883                 387\n",
       "103                           944                 408\n",
       "104                           766                 348\n",
       "105                          1676                 555"
      ]
     },
     "execution_count": 9,
     "metadata": {},
     "output_type": "execute_result"
    }
   ],
   "source": [
    "#Create dataframe with per community board final counts of inspected restos and restos with rodent violations\n",
    "\n",
    "#Count unique restaurants with and without rodent-related violations\n",
    "uniqueRestaurantsInspected = inspDf.groupby(\"Community Board\").agg(inspected_restos = ('CAMIS','nunique'))\n",
    "uniqueRestaurantsWithRodentViolations = rodentViolationsDf.groupby(\"Community Board\").agg(rodent_viol_restos = ('CAMIS','nunique'))\n",
    "\n",
    "#combine total inspections and inspections with rodent violations in same table\n",
    "rodentViolations = pd.merge(uniqueRestaurantsInspected, uniqueRestaurantsWithRodentViolations, on='Community Board', how='left')\n",
    "rodentViolations = rodentViolations.fillna(0) #any CB's with no rodent violating restos, fill in 0 for that column\n",
    "rodentViolations = rodentViolations.astype(int)\n",
    "\n",
    "#Preview\n",
    "rodentViolations.head()\n"
   ]
  },
  {
   "cell_type": "code",
   "execution_count": 10,
   "id": "d82a3f2a",
   "metadata": {},
   "outputs": [],
   "source": [
    "#Save to CSV\n",
    "\n",
    "rodentViolations.to_csv('rodentViolationSummary.csv', index=True) "
   ]
  }
 ],
 "metadata": {
  "kernelspec": {
   "display_name": "Python 3 (ipykernel)",
   "language": "python",
   "name": "python3"
  },
  "language_info": {
   "codemirror_mode": {
    "name": "ipython",
    "version": 3
   },
   "file_extension": ".py",
   "mimetype": "text/x-python",
   "name": "python",
   "nbconvert_exporter": "python",
   "pygments_lexer": "ipython3",
   "version": "3.11.4"
  }
 },
 "nbformat": 4,
 "nbformat_minor": 5
}
