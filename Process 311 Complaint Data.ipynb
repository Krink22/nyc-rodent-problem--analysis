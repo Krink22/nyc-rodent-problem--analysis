{
 "cells": [
  {
   "cell_type": "code",
   "execution_count": 1,
   "id": "6859a628",
   "metadata": {},
   "outputs": [],
   "source": [
    "import pandas as pd\n",
    "import os"
   ]
  },
  {
   "cell_type": "markdown",
   "id": "e87fe883",
   "metadata": {},
   "source": [
    "# IMPORT DATA"
   ]
  },
  {
   "cell_type": "code",
   "execution_count": 2,
   "id": "2737c78d",
   "metadata": {},
   "outputs": [
    {
     "name": "stdout",
     "output_type": "stream",
     "text": [
      "   Unique Key            Created Date Agency Complaint Type   Community Board\n",
      "0    52936392  01/01/2022 12:54:18 AM  DOHMH         Rodent      11 MANHATTAN\n",
      "1    52941873  01/01/2022 11:02:58 AM  DOHMH         Rodent  01 STATEN ISLAND\n",
      "2    52939102  01/01/2022 04:07:41 PM  DOHMH         Rodent       09 BROOKLYN\n",
      "3    52939104  01/01/2022 08:27:46 AM  DOHMH         Rodent          07 BRONX\n",
      "4    52939112  01/01/2022 02:25:00 PM  DOHMH         Rodent      03 MANHATTAN\n",
      "\n",
      "\n",
      "      This data was exported prefiltered to include only 2022 rodent complaints...\n",
      "      Didn't check the underlying source data for missing rows or other data concerns\n"
     ]
    }
   ],
   "source": [
    "#Move to correct directory\n",
    "os.chdir(\"/Users/karina/Library/CloudStorage/Dropbox/Programming/OTI_Interview\")\n",
    "\n",
    "# Read the CSV file into a DataFrame\n",
    "complaintsDfRaw = pd.read_csv('311_Service_Requests_2022Rodent.csv')\n",
    "complaintsDf = complaintsDfRaw.copy()\n",
    "\n",
    "#Summarize data\n",
    "print(complaintsDf.head())\n",
    "print('''\\n\n",
    "      This data was exported prefiltered to include only 2022 rodent complaints...\n",
    "      Didn't check the underlying source data for missing rows or other data concerns''')"
   ]
  },
  {
   "cell_type": "code",
   "execution_count": 3,
   "id": "f2866f59",
   "metadata": {},
   "outputs": [],
   "source": [
    "#Remove rows where community board is unspecified\n",
    "#This is less than 1% of all rows\n",
    "\n",
    "complaintsDf = complaintsDf[~complaintsDf[\"Community Board\"].str.contains(\"Unspecified\")]\n"
   ]
  },
  {
   "cell_type": "code",
   "execution_count": 4,
   "id": "a26924e3",
   "metadata": {},
   "outputs": [],
   "source": [
    "#Create Community Board ID to match format of inspection dataset\n",
    "\n",
    "#Separate boro name and CB number\n",
    "complaintsDf[\"CB Num\"] = complaintsDf[\"Community Board\"].str[0:2]\n",
    "complaintsDf[\"CB Boro\"] = complaintsDf[\"Community Board\"].str[2:]\n",
    "\n",
    "# Replace boro name strings with corresponding numbers\n",
    "mapping = {' MANHATTAN': 1, ' STATEN ISLAND': 5, ' BROOKLYN': 3, ' BRONX': 2, ' QUEENS': 4}\n",
    "complaintsDf['Boro Number'] = complaintsDf['CB Boro'].map(mapping).astype(str)\n",
    "\n",
    "complaintsDf[\"CB_Id\"] = complaintsDf['Boro Number']+complaintsDf[\"CB Num\"]\n"
   ]
  },
  {
   "cell_type": "code",
   "execution_count": 5,
   "id": "ed1c79b6",
   "metadata": {},
   "outputs": [
    {
     "data": {
      "text/html": [
       "<div>\n",
       "<style scoped>\n",
       "    .dataframe tbody tr th:only-of-type {\n",
       "        vertical-align: middle;\n",
       "    }\n",
       "\n",
       "    .dataframe tbody tr th {\n",
       "        vertical-align: top;\n",
       "    }\n",
       "\n",
       "    .dataframe thead th {\n",
       "        text-align: right;\n",
       "    }\n",
       "</style>\n",
       "<table border=\"1\" class=\"dataframe\">\n",
       "  <thead>\n",
       "    <tr style=\"text-align: right;\">\n",
       "      <th></th>\n",
       "      <th>complaints</th>\n",
       "    </tr>\n",
       "    <tr>\n",
       "      <th>CB_Id</th>\n",
       "      <th></th>\n",
       "    </tr>\n",
       "  </thead>\n",
       "  <tbody>\n",
       "    <tr>\n",
       "      <th>101</th>\n",
       "      <td>207</td>\n",
       "    </tr>\n",
       "    <tr>\n",
       "      <th>102</th>\n",
       "      <td>648</td>\n",
       "    </tr>\n",
       "    <tr>\n",
       "      <th>103</th>\n",
       "      <td>842</td>\n",
       "    </tr>\n",
       "    <tr>\n",
       "      <th>104</th>\n",
       "      <td>664</td>\n",
       "    </tr>\n",
       "    <tr>\n",
       "      <th>105</th>\n",
       "      <td>238</td>\n",
       "    </tr>\n",
       "    <tr>\n",
       "      <th>106</th>\n",
       "      <td>329</td>\n",
       "    </tr>\n",
       "    <tr>\n",
       "      <th>107</th>\n",
       "      <td>2042</td>\n",
       "    </tr>\n",
       "    <tr>\n",
       "      <th>108</th>\n",
       "      <td>1103</td>\n",
       "    </tr>\n",
       "    <tr>\n",
       "      <th>109</th>\n",
       "      <td>768</td>\n",
       "    </tr>\n",
       "    <tr>\n",
       "      <th>110</th>\n",
       "      <td>1767</td>\n",
       "    </tr>\n",
       "  </tbody>\n",
       "</table>\n",
       "</div>"
      ],
      "text/plain": [
       "       complaints\n",
       "CB_Id            \n",
       "101           207\n",
       "102           648\n",
       "103           842\n",
       "104           664\n",
       "105           238\n",
       "106           329\n",
       "107          2042\n",
       "108          1103\n",
       "109           768\n",
       "110          1767"
      ]
     },
     "execution_count": 5,
     "metadata": {},
     "output_type": "execute_result"
    }
   ],
   "source": [
    "#Keep only relevant columns\n",
    "complaintsSummaryDf = complaintsDf.groupby(\"CB_Id\").agg(complaints = ('Unique Key','count'))\n",
    "complaintsSummaryDf.head(10)"
   ]
  },
  {
   "cell_type": "code",
   "execution_count": 6,
   "id": "436b01ef",
   "metadata": {},
   "outputs": [],
   "source": [
    "#Save to CSV\n",
    "\n",
    "complaintsSummaryDf.to_csv('rodentComplaintSummary.csv', index=True) "
   ]
  },
  {
   "cell_type": "code",
   "execution_count": null,
   "id": "a27da362",
   "metadata": {},
   "outputs": [],
   "source": []
  }
 ],
 "metadata": {
  "kernelspec": {
   "display_name": "Python 3 (ipykernel)",
   "language": "python",
   "name": "python3"
  },
  "language_info": {
   "codemirror_mode": {
    "name": "ipython",
    "version": 3
   },
   "file_extension": ".py",
   "mimetype": "text/x-python",
   "name": "python",
   "nbconvert_exporter": "python",
   "pygments_lexer": "ipython3",
   "version": "3.11.4"
  }
 },
 "nbformat": 4,
 "nbformat_minor": 5
}
